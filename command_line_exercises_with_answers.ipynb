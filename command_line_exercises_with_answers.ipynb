{
 "cells": [
  {
   "cell_type": "markdown",
   "metadata": {},
   "source": [
    "# COMMAND LINE EXERCISES WITH BASH\n",
    "<hr>"
   ]
  },
  {
   "cell_type": "markdown",
   "metadata": {},
   "source": [
    "### Math with Bash"
   ]
  },
  {
   "cell_type": "markdown",
   "metadata": {},
   "source": [
    "Define two variables, var1=88 and var2=71. Print out (var1+var2), (var1*var2), (var1/var2), (var1%var2).<br>\n",
    "(Hint: try echoing \\``$((var1+var2))`\\`      )"
   ]
  },
  {
   "cell_type": "code",
   "execution_count": null,
   "metadata": {
    "collapsed": true
   },
   "outputs": [],
   "source": [
    "var1=88;var2=71;echo $((var1+var2))\n",
    "var1=88;var2=71;echo $((var1*var2))\n",
    "var1=88;var2=71;echo $((var1/var2))\n",
    "var1=88;var2=71;echo $((var1%var2))"
   ]
  },
  {
   "cell_type": "markdown",
   "metadata": {},
   "source": [
    "Add 2 to var2 and echo var2."
   ]
  },
  {
   "cell_type": "code",
   "execution_count": null,
   "metadata": {
    "collapsed": true
   },
   "outputs": [],
   "source": [
    "let var2+=2; echo $var2"
   ]
  },
  {
   "cell_type": "markdown",
   "metadata": {},
   "source": [
    "Define two variables, var1=88.3 and var2=71. Print out var1+var2. What happened?"
   ]
  },
  {
   "cell_type": "code",
   "execution_count": null,
   "metadata": {
    "collapsed": true
   },
   "outputs": [],
   "source": [
    "var1=88.3;var2=71;echo $((var1+var2))\n",
    "-bash: 88.3: syntax error: invalid arithmetic operator (error token is \".3\")"
   ]
  },
  {
   "cell_type": "markdown",
   "metadata": {},
   "source": [
    "An easy way to do floating point arithmetic in bash is to use \\``bc`\\` command. Explore the use of \\``bc`\\` and calculate var1+var2 if var1=88.3 and var2=73. Investigate the use of \\``bc`\\` on the web or man/help pages."
   ]
  },
  {
   "cell_type": "code",
   "execution_count": null,
   "metadata": {
    "collapsed": true
   },
   "outputs": [],
   "source": [
    "echo \"$var1+$var2\" | bc"
   ]
  },
  {
   "cell_type": "markdown",
   "metadata": {},
   "source": [
    "### File Manipulation and Finding Things"
   ]
  },
  {
   "cell_type": "markdown",
   "metadata": {},
   "source": [
    "List the files with .so extension in \"/lib64\" folder to the libraries.txt file. Then, print out only the unique file names prior to \".so\" to a file called \"unique_libs.txt\"."
   ]
  },
  {
   "cell_type": "code",
   "execution_count": null,
   "metadata": {
    "collapsed": true
   },
   "outputs": [],
   "source": [
    "ls /lib64 | grep -F .so > libraries.txt\n",
    "cut -d. -f 1 libraries.txt | sort | uniq > unique_libs.txt"
   ]
  },
  {
   "cell_type": "markdown",
   "metadata": {},
   "source": [
    "Split the unique_libs.txt to 4 files with more or less the same number of lines. The names of these split files should look like \"splitlib_00\", \"splitlib_01\", ... <br>\n",
    "(Hint: Explore the use of \\``split`\\` command but be careful to not to split an individual line between two files.)"
   ]
  },
  {
   "cell_type": "code",
   "execution_count": null,
   "metadata": {
    "collapsed": true
   },
   "outputs": [],
   "source": [
    "split -d --number=l/4 unique_libs.txt splitlib_"
   ]
  },
  {
   "cell_type": "markdown",
   "metadata": {},
   "source": [
    "Copy the file \"splitlib_01\" to \"splitlib_01_1\" but omit the first three lines of \"splitlib_01\". <br>\n",
    "(Hint: You can do this with \\``tail`\\` command.)"
   ]
  },
  {
   "cell_type": "code",
   "execution_count": null,
   "metadata": {
    "collapsed": true
   },
   "outputs": [],
   "source": [
    "tail -n +4 splitlib_01 > splitlib_01_1"
   ]
  },
  {
   "cell_type": "markdown",
   "metadata": {},
   "source": [
    "Combine \"splitlib_00\", \"splitlib_01_1\", \"splitlib_02\" and \"splitlib_03\" to create \"unique_libs_defected.txt\". \"unique_libs.txt\" and \"unique_libs_defected.txt\" should be same except the missing 3 lines."
   ]
  },
  {
   "cell_type": "code",
   "execution_count": null,
   "metadata": {
    "collapsed": true
   },
   "outputs": [],
   "source": [
    "cat splitlib_00 splitlib_01_1 splitlib_02 splitlib_03 > unique_libs_defected.txt\n",
    "#or\n",
    "cat splitlib_0* > unique_libs_defected.txt"
   ]
  },
  {
   "cell_type": "markdown",
   "metadata": {},
   "source": [
    "Identify the names of the missing library names in \"unique_libs_defected.txt\" and their line numbers in \"unique_libs.txt\".<br>\n",
    "(Hint: Explore \\``diff`\\` command)\n"
   ]
  },
  {
   "cell_type": "code",
   "execution_count": null,
   "metadata": {
    "collapsed": true
   },
   "outputs": [],
   "source": [
    "diff unique_libs.txt unique_libs_defected.txt"
   ]
  },
  {
   "cell_type": "markdown",
   "metadata": {},
   "source": [
    "Combine \"splitlib_00\" and \"splitlib_01\" into \"pasted_libs.txt\" which will include 2 columns: the library names from \"splitlib_00\" in the first column and library names from \"splitlib_01\" in the second column. The columns should be separated by comma. Do you have two columns in every line? <br>\n",
    "(Hint: Explore \\``paste`\\` command.)"
   ]
  },
  {
   "cell_type": "code",
   "execution_count": null,
   "metadata": {
    "collapsed": true
   },
   "outputs": [],
   "source": [
    "paste -d, splitlib_00 splitlib_01 > pasted_libs.txt"
   ]
  },
  {
   "cell_type": "markdown",
   "metadata": {},
   "source": [
    "Print out \"splitlib_00\" file in reverse order (i.e. bottom to top). <br>\n",
    "(Hint: You can use \\``cat`\\` command to print a file from top to bottom to the screen. What command could do the reverse?)"
   ]
  },
  {
   "cell_type": "code",
   "execution_count": null,
   "metadata": {
    "collapsed": true
   },
   "outputs": [],
   "source": [
    "tac splitlib_00"
   ]
  },
  {
   "cell_type": "markdown",
   "metadata": {},
   "source": [
    "List everything in your current working directory according to their modifictation time."
   ]
  },
  {
   "cell_type": "code",
   "execution_count": null,
   "metadata": {
    "collapsed": true
   },
   "outputs": [],
   "source": [
    "ls -t"
   ]
  },
  {
   "cell_type": "markdown",
   "metadata": {},
   "source": [
    "List only the files in your current directory and any directories within with respect to their sizes. <br>\n",
    "(Hint: By combining \\``find`\\` and \\``xargs`\\` commands you can do this easily. Explore how to use  \\``xargs`\\` command.)"
   ]
  },
  {
   "cell_type": "code",
   "execution_count": null,
   "metadata": {
    "collapsed": true
   },
   "outputs": [],
   "source": [
    "find . -type f | xargs ls -lS"
   ]
  },
  {
   "cell_type": "markdown",
   "metadata": {},
   "source": [
    "Make four new folders (\"slib_00\", \"slib_01\", ...) and move \"splitlib_00\" to \"slib_00\" folder, move \"splitlib_01\" to \"slib_01\" folder, and so on."
   ]
  },
  {
   "cell_type": "code",
   "execution_count": null,
   "metadata": {
    "collapsed": true
   },
   "outputs": [],
   "source": [
    "echo slib_00 slib_01 slib_02 slib_03 | xargs mkdir\n",
    "\n",
    "#or\n",
    "\n",
    "for i in 00 01 02 03; do mv splitlib_$i ./slib_$i; done"
   ]
  },
  {
   "cell_type": "markdown",
   "metadata": {},
   "source": [
    "Combining \\``find`\\`, \\``xargs`\\` and \\``grep`\\` commands search for 'python' string in files with sizes greater than 1 kilobytes in the current working folder and all the folders within."
   ]
  },
  {
   "cell_type": "code",
   "execution_count": null,
   "metadata": {
    "collapsed": true
   },
   "outputs": [],
   "source": [
    "find . -size +1k -type f | xargs grep 'python'"
   ]
  },
  {
   "cell_type": "markdown",
   "metadata": {},
   "source": [
    "Find all the files in \"/lib64\" folder which are larger than 4 Megabytes and show their sizes.  Do not let find to search files at deeper levels in \"/lib64\" folder hierarchy."
   ]
  },
  {
   "cell_type": "code",
   "execution_count": null,
   "metadata": {
    "collapsed": true
   },
   "outputs": [],
   "source": [
    "find /lib64/ -maxdepth 1 -size +2M -type f -ls"
   ]
  },
  {
   "cell_type": "markdown",
   "metadata": {},
   "source": [
    "### Loop Exercises"
   ]
  },
  {
   "cell_type": "markdown",
   "metadata": {},
   "source": [
    "Write a loop command to print out integers 1 to 20 (increasing order) to the screen where each number should be printed out on a separate line."
   ]
  },
  {
   "cell_type": "code",
   "execution_count": null,
   "metadata": {
    "collapsed": true
   },
   "outputs": [],
   "source": [
    "for ((i=1;i<=20;i+=1)); do echo $i; done\n",
    "\n",
    "#or\n",
    "\n",
    "for i in `seq 20`; do  echo $i; done"
   ]
  },
  {
   "cell_type": "markdown",
   "metadata": {},
   "source": [
    "Write a loop command to print out integers 20 to 1 in (decreasing order) to the screen where each number should be printed out on a separate line."
   ]
  },
  {
   "cell_type": "code",
   "execution_count": null,
   "metadata": {
    "collapsed": true
   },
   "outputs": [],
   "source": [
    "for ((i=20;i>0;i-=1)); do echo $i; done"
   ]
  },
  {
   "cell_type": "markdown",
   "metadata": {},
   "source": [
    "In addition to \\``for`\\`, loops can be created with \\``while`\\` statement in bash scripts. Using \\``while`\\` loop  repeat the last twp exercises i.e.:\n",
    "- Write a loop command to print out integers 1 to 20 (increasing order) to the screen where each number should be printed out on a separate line.\n",
    "- Write a loop command to print out integers 20 to 1 in (decreasing order) to the screen where each number should be printed out on a separate line.<br>\n",
    "(Hint: When using  \\``while`\\`, the loop continues until some condition is false. The argument of the condition should change during the loop operation. Otherwise you would end up with an infinite loop. Explore \\``while`\\` loops on the web for further details.)"
   ]
  },
  {
   "cell_type": "code",
   "execution_count": null,
   "metadata": {
    "collapsed": true
   },
   "outputs": [],
   "source": [
    "i=1; while [ $i -lt 21 ]; do echo $i; i=$((i+1)); done"
   ]
  },
  {
   "cell_type": "code",
   "execution_count": null,
   "metadata": {
    "collapsed": true
   },
   "outputs": [],
   "source": [
    "i=20; while [ $i -gt 0 ]; do echo $i; i=$((i-1)); done"
   ]
  },
  {
   "cell_type": "markdown",
   "metadata": {},
   "source": [
    "Write a loop command to print out integers 20 to 1 in (decreasing order) to the screen where all the numbers printed on the same line separated with a space."
   ]
  },
  {
   "cell_type": "code",
   "execution_count": null,
   "metadata": {
    "collapsed": true
   },
   "outputs": [],
   "source": [
    "for ((i=20;i>0;i-=1)); do echo -n \"$i \"; done; echo \" \""
   ]
  },
  {
   "cell_type": "markdown",
   "metadata": {},
   "source": [
    "Write a loop command to print out integers 1 to 20 (increasing order) to a file (called \"integers.txt\") where each number should be printed out on a separate line."
   ]
  },
  {
   "cell_type": "code",
   "execution_count": null,
   "metadata": {
    "collapsed": true
   },
   "outputs": [],
   "source": [
    "rm integers.txt; touch integers.txt; for ((i=1;i<=20;i+=1)); do echo $i>> integers.txt; done"
   ]
  },
  {
   "cell_type": "markdown",
   "metadata": {},
   "source": [
    "Write a command including a loop to add 1 to each integer in \"integers.txt\" file and write it to \"plusone.txt\". Assume you don't know the number of lines in \"integer.txt\"."
   ]
  },
  {
   "cell_type": "code",
   "execution_count": null,
   "metadata": {
    "collapsed": true
   },
   "outputs": [],
   "source": [
    "rm plusone.txt \n",
    "i=`cat integers.txt | wc -l` \n",
    "touch plusone.txt \n",
    "for j in `seq $i`; do l=`head -n $j integers.txt | tail -1`; echo $((l+1))>>plusone.txt; done"
   ]
  },
  {
   "cell_type": "markdown",
   "metadata": {},
   "source": [
    "Do the same as operation in the last question  but this time use sed function witin the loop to access each line in \"integers.txt\". Search for sed function on the web or read \\``man sed`\\` or \\``sed --help`\\` for its use. Again, assume you don't know the number of lines in \"integer.txt\"."
   ]
  },
  {
   "cell_type": "code",
   "execution_count": null,
   "metadata": {
    "collapsed": true
   },
   "outputs": [],
   "source": [
    "rm plusone.txt \n",
    "i=`cat integers.txt | wc -l`\n",
    "touch plusone.txt\n",
    "for j in `seq $i`; do l=`sed -n \"$j\"p integers.txt`; echo $((l+1))>>plusone.txt; done"
   ]
  },
  {
   "cell_type": "markdown",
   "metadata": {},
   "source": [
    "Write a loop to create 100 folders with names \"1\",\"2\",\"3\",...,\"100\". Echo which folder is created each step. Use \\``seq`\\` function to identify the values over which the loop iterates. Search for \\``seq`\\` function on the web or read \\``man seq`\\` or \\``seq --help`\\`."
   ]
  },
  {
   "cell_type": "code",
   "execution_count": null,
   "metadata": {
    "collapsed": true
   },
   "outputs": [],
   "source": [
    "for i in `seq 100`; do mkdir $i; echo $i; done"
   ]
  },
  {
   "cell_type": "markdown",
   "metadata": {},
   "source": [
    "Delete the 100 folders using a similar loop as the last question."
   ]
  },
  {
   "cell_type": "code",
   "execution_count": null,
   "metadata": {
    "collapsed": true
   },
   "outputs": [],
   "source": [
    "for i in `seq 100`; do rm -Rf $i; done"
   ]
  },
  {
   "cell_type": "markdown",
   "metadata": {},
   "source": [
    "Write a loop to create 100 folders with names \"001\", \"002\",...,\"100\". Echo which folder is created each step. Again, use \\``seq`\\` function to identify the values over which the loop iterates. Search for \\``seq`\\` function  on the web or read \\``man seq`\\` or \\``seq --help`\\`. <br>\n",
    "(Hint: Read flags of \\``seq`\\` function.)"
   ]
  },
  {
   "cell_type": "code",
   "execution_count": null,
   "metadata": {
    "collapsed": true
   },
   "outputs": [],
   "source": [
    "for i in `seq -w 100`; do mkdir $i; done"
   ]
  },
  {
   "cell_type": "markdown",
   "metadata": {},
   "source": [
    "Delete the 100 folders using created in the last question."
   ]
  },
  {
   "cell_type": "code",
   "execution_count": null,
   "metadata": {
    "collapsed": true
   },
   "outputs": [],
   "source": [
    "for i in `seq -w 100`; do rm -Rf $i; done"
   ]
  },
  {
   "cell_type": "markdown",
   "metadata": {},
   "source": [
    "Write a loop to create 10 folders with names \"1\", \"2\",...,\"10\" but after a folder is created make the code to wait for 3 seconds before creating another folder. Echo which folder is created each step."
   ]
  },
  {
   "cell_type": "code",
   "execution_count": null,
   "metadata": {
    "collapsed": true
   },
   "outputs": [],
   "source": [
    "for i in `seq 10`; do mkdir $i; echo $i; sleep 3; done"
   ]
  },
  {
   "cell_type": "markdown",
   "metadata": {},
   "source": [
    "### VIM Text Editor Exercises"
   ]
  },
  {
   "cell_type": "markdown",
   "metadata": {},
   "source": [
    "Print your name the one million times (each on one line) along with the line number to the file \"ilikemyname.txt\". Use VIM text editor to open \"ilikemyname.txt\" and delete the line 783219th line."
   ]
  },
  {
   "cell_type": "code",
   "execution_count": null,
   "metadata": {
    "collapsed": true
   },
   "outputs": [],
   "source": [
    "rm ilikemyname.txt\n",
    "touch ilikemyname.txt \n",
    "for i in `seq 1000000`; do echo \"Alper Kinaci\" $i >> ilikemyname.txt; done\n",
    "vim ilikemyname.txt\n",
    "\n",
    "-- Go to the command-line mode (hit \"esc\" then \":\"), two alternatives after that: \n",
    "1- write 783219 and hit enter/return, \n",
    "2- write ?783219 and hit enter/return. Hit d two times\n"
   ]
  },
  {
   "cell_type": "markdown",
   "metadata": {},
   "source": [
    "While you are viewing ilikemyname.txt with VIM, set VIM to show line numbers."
   ]
  },
  {
   "cell_type": "code",
   "execution_count": null,
   "metadata": {
    "collapsed": true
   },
   "outputs": [],
   "source": [
    "-- Go to the command-line mode (hit \"esc\" then \":\") and write set nu, hit enter/return"
   ]
  },
  {
   "cell_type": "markdown",
   "metadata": {},
   "source": [
    "Undo your deletion."
   ]
  },
  {
   "cell_type": "code",
   "execution_count": null,
   "metadata": {
    "collapsed": true
   },
   "outputs": [],
   "source": [
    "-- Hit \"esc\" to go to the normal mode and hit \"u\""
   ]
  },
  {
   "cell_type": "markdown",
   "metadata": {},
   "source": [
    "Only erase the number after your name on line 783219."
   ]
  },
  {
   "cell_type": "code",
   "execution_count": null,
   "metadata": {
    "collapsed": true
   },
   "outputs": [],
   "source": [
    "-- Again you have many options here:\n",
    "\n",
    "1- Hit \"esc\" to switch to the normal mode, move the cursor to the beginning of the number and \n",
    "hit \"x\" 6 times to erase the number on that line on character at a time\n",
    "\n",
    "OR\n",
    "\n",
    "2- Hit \"esc\" and \"6\" and then \"x\" to erase 6 characters. There are several more ways."
   ]
  },
  {
   "cell_type": "markdown",
   "metadata": {},
   "source": [
    "While viewing ilikemyname.txt with VIM editor, go to the last line and enter the text \"Last\" before your name. Then go to the first line of the file and enter the text \"First\" after your name."
   ]
  },
  {
   "cell_type": "code",
   "execution_count": null,
   "metadata": {
    "collapsed": true
   },
   "outputs": [],
   "source": [
    "-- Follow the steps below\n",
    "\n",
    "1- Hit \"esc\" and \":\" to go to the command-line mode\n",
    "2- Write \"$\", hit enter/return\n",
    "3- Hit \"i\" to enter insert mode and type \"Last\" before your name\n",
    "4- Hit \"esc\" and \":\" to go to the command-line mode\n",
    "5- Write \"0\", hit enter/return\n",
    "6- Hit \"i\" to enter insert mode, move the cursor after your name and type \"First\""
   ]
  },
  {
   "cell_type": "markdown",
   "metadata": {},
   "source": [
    "Save the file, then save the file as \"ilikemayname_bckp.txt\" and quit to command line."
   ]
  },
  {
   "cell_type": "code",
   "execution_count": null,
   "metadata": {
    "collapsed": true
   },
   "outputs": [],
   "source": [
    "-- Follow the steps below:\n",
    "\n",
    "1- Hit \"esc\" and \":\" to go to the command-line mode\n",
    "2- Write \"w\", hit enter/return. The file is saved\n",
    "3- Hit \"esc\" and \":\" to go to the command-line mode\n",
    "4- Write \"w ilikemayname_bckp.txt\", hit enter/return. You created ilikemayname_bckp.txt\n",
    "5- Hit \"esc\" and \":\" to go to the command-line mode\n",
    "6- Write \"wq\", hit enter/return to save and quit"
   ]
  },
  {
   "cell_type": "markdown",
   "metadata": {},
   "source": [
    "Open \"ilikemyname.txt\" and \"ilikemayname_bckp.txt\" both in a single VIM window side-by-side. Delete the first 134000 lines in \"ilikemyname.txt\". Delete your name in all lines of \"ilikemayname_bckp.txt\""
   ]
  },
  {
   "cell_type": "code",
   "execution_count": null,
   "metadata": {
    "collapsed": true
   },
   "outputs": [],
   "source": [
    "vim -O ilikemyname.txt ilikemayname_bckp.txt\n",
    "\n",
    "-- The command above will open 2 files in one VIM editor window. Now, follow the step below:\n",
    "\n",
    "1- Make sure the cursor is on ilikemyname.txt tab\n",
    "2- Hit \"esc\" to go to normal mode\n",
    "3- Write 134000 and hit \"d\" 2 times. 134K lines deleted\n",
    "4- To move the cursor to ilikemayname_bckp.txt tab hit \"esc\" (normal mode) and do \"Ctrl+w\" and hit \"w\" again.\n",
    "5- Hit \"esc\" and \":\" to go to the command-line mode\n",
    "6- Write %s/Your Name//g, hit enter/return. All your names are deleted from ilikemayname_bckp.txt tab\n",
    "7- Hit \"esc\" and \":\" to go to the command-line mode\n",
    "8- Write \"wq\", hit enter/return to save and quit rom ilikemayname_bckp.txt tab\n",
    "9- Hit \"esc\" and \":\" to go to the command-line mode\n",
    "10- Write \"wq\", hit enter/return to save and quit\n"
   ]
  },
  {
   "cell_type": "markdown",
   "metadata": {},
   "source": [
    "You can work with VIM without opening the editor window. This is called batch mode. Copy ilikemyname.txt\" to \"ilikemayname_bckp.txt\". Now both files have your name. Delete your name in all lines of \"ilikemayname_bckp.txt\" and save the file with VIM without opening editor window.\n",
    "(Hint: Explore `vim -c ...` i.e. -c flag)"
   ]
  },
  {
   "cell_type": "code",
   "execution_count": null,
   "metadata": {
    "collapsed": true
   },
   "outputs": [],
   "source": [
    "cp ilikemyname.txt ilikemayname_bckp.txt\n",
    "vim -c \":%s/Your Name//g\" -c \":wq\" ilikemayname_bckp.txt"
   ]
  },
  {
   "cell_type": "markdown",
   "metadata": {},
   "source": [
    "### Writing Scripts"
   ]
  },
  {
   "cell_type": "markdown",
   "metadata": {},
   "source": [
    "Write a script to find if a file exists in \"/lib64\". Input the filename as a parameter and if the file is in the folder, the script should print out \"yourfilename file exists\". Otherwise the script should print out \"yourfilename file does not exits\""
   ]
  },
  {
   "cell_type": "code",
   "execution_count": null,
   "metadata": {
    "collapsed": true
   },
   "outputs": [],
   "source": [
    "#!/usr/bin/env bash\n",
    "\n",
    "filename=$1\n",
    "\n",
    "if [ -f /lib64/$filename ]; then\n",
    "    echo \"$filename\"  'file exits'\n",
    "else\n",
    "    echo  \"$filename\"  'file does not exist'"
   ]
  },
  {
   "cell_type": "markdown",
   "metadata": {},
   "source": [
    "Write a bash script which outputs:<br>\n",
    " - \"True\" when you run it with 1 as the parameter (i.e. bash yourscript.sh 1) <br>\n",
    " - \"False\" when you run it with 0 as the parameter (i.e. bash yourscript.sh 0) <br>\n",
    " - \"Enter 0 or 1\" when you run it with any other integer (i.e. bash yourscript.sh 4) <br>\n",
    "(Hint: Explore the use of conditionals if, elif, else in bash)"
   ]
  },
  {
   "cell_type": "code",
   "execution_count": null,
   "metadata": {
    "collapsed": true
   },
   "outputs": [],
   "source": [
    "#!/usr/bin/env bash\n",
    "\n",
    "myflag=\"$1\"\n",
    "\n",
    "if [ $myflag -eq 1 ]; then\n",
    "    echo 'True'\n",
    "elif [ $myflag -eq 0 ]; then\n",
    "    echo 'False'\n",
    "else\n",
    "    echo 'Enter 0 or 1'\n",
    "fi"
   ]
  },
  {
   "cell_type": "markdown",
   "metadata": {},
   "source": [
    "Write a bash script to generate 1000 random numbers between 1 and 1000 and write them to a file. Find out how many unique numbers are obtained. <br>\n",
    "(Hint: Try issuing \\``echo $RANDOM`\\`, what do you get?)"
   ]
  },
  {
   "cell_type": "code",
   "execution_count": null,
   "metadata": {
    "collapsed": true
   },
   "outputs": [],
   "source": [
    "#!/usr/bin/env bash\n",
    "\n",
    "rm randomnumbers.txt\n",
    "touch randomnumbers.txt\n",
    "\n",
    "for i in `seq 1000`\n",
    "    do\n",
    "        echo $(((RANDOM%1000)+1)) >> randomnumbers.txt\n",
    "    done\n",
    "\n",
    "sort -n randomnumbers.txt | uniq | wc -l"
   ]
  },
  {
   "cell_type": "markdown",
   "metadata": {},
   "source": [
    "Write a script to run the script you have developed for unique random numbers n times. n is a variable parameter you will set as an input when you are starting your script."
   ]
  },
  {
   "cell_type": "code",
   "execution_count": null,
   "metadata": {
    "collapsed": true
   },
   "outputs": [],
   "source": [
    "#!/usr/bin/env bash\n",
    "\n",
    "for j in `seq $1`; do\n",
    "    rm randomnumbers.txt\n",
    "    touch randomnumbers.txt\n",
    "\n",
    "    for i in `seq 1000`; do\n",
    "        echo $(((RANDOM%1000)+1)) >> randomnumbers.txt\n",
    "    done\n",
    "\n",
    "    sort -n randomnumbers.txt | uniq | wc -l\n",
    "done"
   ]
  }
 ],
 "metadata": {
  "kernelspec": {
   "display_name": "Bash",
   "language": "bash",
   "name": "bash"
  }
 },
 "nbformat": 4,
 "nbformat_minor": 2
}
